{
 "cells": [
  {
   "cell_type": "code",
   "execution_count": null,
   "metadata": {
    "id": "ur8xi4C7S06n"
   },
   "outputs": [],
   "source": [
    "# Copyright 2024 Google LLC\n",
    "#\n",
    "# Licensed under the Apache License, Version 2.0 (the \"License\");\n",
    "# you may not use this file except in compliance with the License.\n",
    "# You may obtain a copy of the License at\n",
    "#\n",
    "#     https://www.apache.org/licenses/LICENSE-2.0\n",
    "#\n",
    "# Unless required by applicable law or agreed to in writing, software\n",
    "# distributed under the License is distributed on an \"AS IS\" BASIS,\n",
    "# WITHOUT WARRANTIES OR CONDITIONS OF ANY KIND, either express or implied.\n",
    "# See the License for the specific language governing permissions and\n",
    "# limitations under the License."
   ]
  },
  {
   "cell_type": "markdown",
   "metadata": {
    "id": "JAPoU8Sm5E6e"
   },
   "source": [
    "# Prompt Design - Best Practices\n",
    "\n",
    "<table align=\"left\">\n",
    "  <td style=\"text-align: center\">\n",
    "    <a href=\"https://colab.research.google.com/github/GoogleCloudPlatform/generative-ai/blob/main/gemini/prompts/intro_prompt_design.ipynb\">\n",
    "      <img src=\"https://cloud.google.com/ml-engine/images/colab-logo-32px.png\" alt=\"Google Colaboratory logo\"><br> Open in Colab\n",
    "    </a>\n",
    "  </td>\n",
    "  <td style=\"text-align: center\">\n",
    "    <a href=\"https://console.cloud.google.com/vertex-ai/colab/import/https:%2F%2Fraw.githubusercontent.com%2FGoogleCloudPlatform%2Fgenerative-ai%2Fmain%2Fgemini%2Fprompts%2Fintro_prompt_design.ipynb\">\n",
    "      <img width=\"32px\" src=\"https://lh3.googleusercontent.com/JmcxdQi-qOpctIvWKgPtrzZdJJK-J3sWE1RsfjZNwshCFgE_9fULcNpuXYTilIR2hjwN\" alt=\"Google Cloud Colab Enterprise logo\"><br> Open in Colab Enterprise\n",
    "    </a>\n",
    "  </td>    \n",
    "  <td style=\"text-align: center\">\n",
    "    <a href=\"https://console.cloud.google.com/vertex-ai/workbench/deploy-notebook?download_url=https://raw.githubusercontent.com/GoogleCloudPlatform/generative-ai/main/gemini/prompts/intro_prompt_design.ipynb\">\n",
    "      <img src=\"https://lh3.googleusercontent.com/UiNooY4LUgW_oTvpsNhPpQzsstV5W8F7rYgxgGBD85cWJoLmrOzhVs_ksK_vgx40SHs7jCqkTkCk=e14-rj-sc0xffffff-h130-w32\" alt=\"Vertex AI logo\"><br> Open in Workbench\n",
    "    </a>\n",
    "  </td>\n",
    "  <td style=\"text-align: center\">\n",
    "    <a href=\"https://github.com/GoogleCloudPlatform/generative-ai/blob/main/gemini/prompts/intro_prompt_design.ipynb\">\n",
    "      <img src=\"https://cloud.google.com/ml-engine/images/github-logo-32px.png\" alt=\"GitHub logo\"><br> View on GitHub\n",
    "    </a>\n",
    "  </td>\n",
    "  <td style=\"text-align: center\">\n",
    "    <a href=\"https://goo.gle/4fWHlze\">\n",
    "      <img width=\"32px\" src=\"https://cdn.qwiklabs.com/assets/gcp_cloud-e3a77215f0b8bfa9b3f611c0d2208c7e8708ed31.svg\" alt=\"Google Cloud logo\"><br> Open in  Cloud Skills Boost\n",
    "    </a>\n",
    "  </td>\n",
    "</table>\n",
    "\n",
    "<div style=\"clear: both;\"></div>\n",
    "\n",
    "<b>Share to:</b>\n",
    "\n",
    "<a href=\"https://www.linkedin.com/sharing/share-offsite/?url=https%3A//github.com/GoogleCloudPlatform/generative-ai/blob/main/gemini/prompts/intro_prompt_design.ipynb\" target=\"_blank\">\n",
    "  <img width=\"20px\" src=\"https://upload.wikimedia.org/wikipedia/commons/8/81/LinkedIn_icon.svg\" alt=\"LinkedIn logo\">\n",
    "</a>\n",
    "\n",
    "<a href=\"https://bsky.app/intent/compose?text=https%3A//github.com/GoogleCloudPlatform/generative-ai/blob/main/gemini/prompts/intro_prompt_design.ipynb\" target=\"_blank\">\n",
    "  <img width=\"20px\" src=\"https://upload.wikimedia.org/wikipedia/commons/7/7a/Bluesky_Logo.svg\" alt=\"Bluesky logo\">\n",
    "</a>\n",
    "\n",
    "<a href=\"https://twitter.com/intent/tweet?url=https%3A//github.com/GoogleCloudPlatform/generative-ai/blob/main/gemini/prompts/intro_prompt_design.ipynb\" target=\"_blank\">\n",
    "  <img width=\"20px\" src=\"https://upload.wikimedia.org/wikipedia/commons/5/53/X_logo_2023_original.svg\" alt=\"X logo\">\n",
    "</a>\n",
    "\n",
    "<a href=\"https://reddit.com/submit?url=https%3A//github.com/GoogleCloudPlatform/generative-ai/blob/main/gemini/prompts/intro_prompt_design.ipynb\" target=\"_blank\">\n",
    "  <img width=\"20px\" src=\"https://redditinc.com/hubfs/Reddit%20Inc/Brand/Reddit_Logo.png\" alt=\"Reddit logo\">\n",
    "</a>\n",
    "\n",
    "<a href=\"https://www.facebook.com/sharer/sharer.php?u=https%3A//github.com/GoogleCloudPlatform/generative-ai/blob/main/gemini/prompts/intro_prompt_design.ipynb\" target=\"_blank\">\n",
    "  <img width=\"20px\" src=\"https://upload.wikimedia.org/wikipedia/commons/5/51/Facebook_f_logo_%282019%29.svg\" alt=\"Facebook logo\">\n",
    "</a>            "
   ]
  },
  {
   "cell_type": "markdown",
   "metadata": {
    "id": "84f0f73a0f76"
   },
   "source": [
    "| | |\n",
    "|-|-|\n",
    "|Author(s) | [Polong Lin](https://github.com/polong-lin), [Karl Weinmeister](https://github.com/kweinmeister) |"
   ]
  },
  {
   "cell_type": "markdown",
   "metadata": {
    "id": "tvgnzT1CKxrO"
   },
   "source": [
    "## Overview\n",
    "\n",
    "This notebook covers the essentials of prompt engineering, including some best practices.\n",
    "\n",
    "Learn more about prompt design in the [official documentation](https://cloud.google.com/vertex-ai/docs/generative-ai/text/text-overview).\n",
    "\n",
    "In this notebook, you learn best practices around prompt engineering -- how to design prompts to improve the quality of your responses.\n",
    "\n",
    "This notebook covers the following best practices for prompt engineering:\n",
    "\n",
    "- Be concise\n",
    "- Be specific and well-defined\n",
    "- Ask one task at a time\n",
    "- Turn generative tasks into classification tasks\n",
    "- Improve response quality by including examples"
   ]
  },
  {
   "cell_type": "markdown",
   "metadata": {
    "id": "61RBz8LLbxCR"
   },
   "source": [
    "## Getting Started"
   ]
  },
  {
   "cell_type": "markdown",
   "metadata": {
    "id": "No17Cw5hgx12"
   },
   "source": [
    "### Install Google Gen AI SDK\n"
   ]
  },
  {
   "cell_type": "code",
   "execution_count": 1,
   "metadata": {
    "id": "tFy3H3aPgx12",
    "tags": []
   },
   "outputs": [
    {
     "name": "stdout",
     "output_type": "stream",
     "text": [
      "\n",
      "\u001b[1m[\u001b[0m\u001b[34;49mnotice\u001b[0m\u001b[1;39;49m]\u001b[0m\u001b[39;49m A new release of pip is available: \u001b[0m\u001b[31;49m25.0\u001b[0m\u001b[39;49m -> \u001b[0m\u001b[32;49m25.0.1\u001b[0m\n",
      "\u001b[1m[\u001b[0m\u001b[34;49mnotice\u001b[0m\u001b[1;39;49m]\u001b[0m\u001b[39;49m To update, run: \u001b[0m\u001b[32;49mpip install --upgrade pip\u001b[0m\n",
      "Note: you may need to restart the kernel to use updated packages.\n"
     ]
    }
   ],
   "source": [
    "%pip install --upgrade --quiet google-genai"
   ]
  },
  {
   "cell_type": "markdown",
   "metadata": {
    "id": "R5Xep4W9lq-Z"
   },
   "source": [
    "### Restart runtime\n",
    "\n",
    "To use the newly installed packages in this Jupyter runtime, you must restart the runtime. You can do this by running the cell below, which will restart the current kernel."
   ]
  },
  {
   "cell_type": "code",
   "execution_count": 2,
   "metadata": {
    "id": "XRvKdaPDTznN",
    "tags": []
   },
   "outputs": [
    {
     "data": {
      "text/plain": [
       "{'status': 'ok', 'restart': True}"
      ]
     },
     "execution_count": 2,
     "metadata": {},
     "output_type": "execute_result"
    }
   ],
   "source": [
    "import IPython\n",
    "\n",
    "app = IPython.Application.instance()\n",
    "app.kernel.do_shutdown(True)"
   ]
  },
  {
   "cell_type": "markdown",
   "metadata": {
    "id": "SbmM4z7FOBpM"
   },
   "source": [
    "<div class=\"alert alert-block alert-warning\">\n",
    "<b>⚠️ The kernel is going to restart. Please wait until it is finished before continuing to the next step. ⚠️</b>\n",
    "</div>\n"
   ]
  },
  {
   "cell_type": "markdown",
   "metadata": {
    "id": "dmWOrTJ3gx13"
   },
   "source": [
    "### Authenticate your notebook environment (Colab only)\n",
    "\n",
    "Authenticate your environment on Google Colab.\n"
   ]
  },
  {
   "cell_type": "code",
   "execution_count": 1,
   "metadata": {
    "id": "NyKGtVQjgx13",
    "tags": []
   },
   "outputs": [],
   "source": [
    "import sys\n",
    "\n",
    "if \"google.colab\" in sys.modules:\n",
    "    from google.colab import auth\n",
    "\n",
    "    auth.authenticate_user()"
   ]
  },
  {
   "cell_type": "markdown",
   "metadata": {
    "id": "06489bd14f16"
   },
   "source": [
    "### Import libraries\n"
   ]
  },
  {
   "cell_type": "code",
   "execution_count": 2,
   "metadata": {
    "id": "154137022fb6",
    "tags": []
   },
   "outputs": [],
   "source": [
    "from IPython.display import Markdown, display\n",
    "from google import genai\n",
    "from google.genai.types import GenerateContentConfig"
   ]
  },
  {
   "cell_type": "markdown",
   "metadata": {
    "id": "DF4l8DTdWgPY"
   },
   "source": [
    "### Set Google Cloud project information and create client\n",
    "\n",
    "To get started using Vertex AI, you must have an existing Google Cloud project and [enable the Vertex AI API](https://console.cloud.google.com/flows/enableapi?apiid=aiplatform.googleapis.com).\n",
    "\n",
    "Learn more about [setting up a project and a development environment](https://cloud.google.com/vertex-ai/docs/start/cloud-environment)."
   ]
  },
  {
   "cell_type": "code",
   "execution_count": 3,
   "metadata": {
    "id": "Nqwi-5ufWp_B",
    "tags": []
   },
   "outputs": [],
   "source": [
    "import os\n",
    "\n",
    "PROJECT_ID = \"qwiklabs-gcp-01-553a7fb07769\"  # @param {type: \"string\", placeholder: \"[your-project-id]\", isTemplate: true}\n",
    "if not PROJECT_ID or PROJECT_ID == \"qwiklabs-gcp-01-553a7fb07769\":\n",
    "    PROJECT_ID = str(os.environ.get(\"GOOGLE_CLOUD_PROJECT\"))\n",
    "\n",
    "LOCATION = os.environ.get(\"GOOGLE_CLOUD_REGION\", \"us-central1\")"
   ]
  },
  {
   "cell_type": "code",
   "execution_count": 4,
   "metadata": {
    "id": "QqRWdPGmW3NJ",
    "tags": []
   },
   "outputs": [],
   "source": [
    "client = genai.Client(vertexai=True, project=PROJECT_ID, location=LOCATION)"
   ]
  },
  {
   "cell_type": "markdown",
   "metadata": {
    "id": "OnFPpCRtXRl4"
   },
   "source": [
    "### Load model\n",
    "\n",
    "Learn more about all [Gemini models on Vertex AI](https://cloud.google.com/vertex-ai/generative-ai/docs/learn/models#gemini-models)."
   ]
  },
  {
   "cell_type": "code",
   "execution_count": 5,
   "metadata": {
    "id": "IQYu_9SvXQah",
    "tags": []
   },
   "outputs": [],
   "source": [
    "MODEL_ID = \"gemini-2.0-flash-001\"  # @param {type: \"string\"}"
   ]
  },
  {
   "cell_type": "markdown",
   "metadata": {
    "id": "cVOtUNJ5X0PY"
   },
   "source": [
    "## Prompt engineering best practices"
   ]
  },
  {
   "cell_type": "markdown",
   "metadata": {
    "id": "uv_e0fEPX60q"
   },
   "source": [
    "Prompt engineering is all about how to design your prompts so that the response is what you were indeed hoping to see.\n",
    "\n",
    "The idea of using \"unfancy\" prompts is to minimize the noise in your prompt to reduce the possibility of the LLM misinterpreting the intent of the prompt. Below are a few guidelines on how to engineer \"unfancy\" prompts.\n",
    "\n",
    "In this section, you'll cover the following best practices when engineering prompts:\n",
    "\n",
    "* Be concise\n",
    "* Be specific, and well-defined\n",
    "* Ask one task at a time\n",
    "* Improve response quality by including examples\n",
    "* Turn generative tasks to classification tasks to improve safety"
   ]
  },
  {
   "cell_type": "markdown",
   "metadata": {
    "id": "0pY4XX0OX9_Y"
   },
   "source": [
    "### Be concise"
   ]
  },
  {
   "cell_type": "markdown",
   "metadata": {
    "id": "xlRpxyxGYA1K"
   },
   "source": [
    "🛑 Not recommended. The prompt below is unnecessarily verbose."
   ]
  },
  {
   "cell_type": "code",
   "execution_count": 6,
   "metadata": {
    "id": "YKV4G-CfXdbi",
    "tags": []
   },
   "outputs": [
    {
     "data": {
      "text/markdown": [
       "Okay, here are some name ideas for a flower shop specializing in dried flower bouquets, categorized for different vibes:\n",
       "\n",
       "**Elegant & Sophisticated:**\n",
       "\n",
       "*   **The Everbloom Studio:** (Combines permanence and artistry)\n",
       "*   **Gathered & Preserved:** (Highlights the process and beauty)\n",
       "*   **L'Atelier des Fleurs Séchées:** (French for \"The Dried Flower Workshop\" - classy and intriguing)\n",
       "*   **The Gilded Bloom:** (Suggests a golden, lasting beauty)\n",
       "*   **Arbor Vitae Floral:** (Arbor Vitae means \"tree of life,\" symbolizing longevity)\n",
       "*   **The Sepia Stem:** (evokes a vintage, timeless feel)\n",
       "*   **Petrified Petals:** (edgy and unique)\n",
       "\n",
       "**Rustic & Natural:**\n",
       "\n",
       "*   **The Prairie Posy:** (Evokes a natural, wildflower feel)\n",
       "*   **Stonecrop & Stem:** (Uses plant names and highlights the natural element)\n",
       "*   **The Harvest Bloom:** (Connects to the season and the idea of gathering)\n",
       "*   **Wild Grace Dried Flowers:** (Implies natural beauty and elegance)\n",
       "*   **Dry Creek Florals:** (Invokes a rural, earthy image)\n",
       "*   **The Burlap Bouquet:** (Simple, rustic, and descriptive)\n",
       "\n",
       "**Modern & Minimalist:**\n",
       "\n",
       "*   **Dried.** (Simple, direct, and memorable)\n",
       "*   **Everlasting Stems:** (Clear and to the point)\n",
       "*   **The Preserved Petal:** (Focuses on the preservation aspect)\n",
       "*   **Still Life Florals:** (Connects to the art world and the beauty of stillness)\n",
       "*   **Bloom & Dry:** (Catchy and memorable)\n",
       "\n",
       "**Whimsical & Playful:**\n",
       "\n",
       "*   **The Time Capsule Bouquet:** (Suggests preserving memories)\n",
       "*   **The Snapdragon & Sage:** (Uses alliteration and evokes a natural, slightly magical feel)\n",
       "*   **The Whispering Wildflower:** (Romantic and a bit mysterious)\n",
       "*   **Dried Delights:** (Simple, cheerful, and inviting)\n",
       "*   **Floral Alchemy:** (Suggests the transformation of fresh to dried)\n",
       "\n",
       "**Things to Consider When Choosing a Name:**\n",
       "\n",
       "*   **Target Audience:** Who are you trying to attract? (e.g., modern minimalists, romantic brides, rustic home decorators)\n",
       "*   **Brand Identity:** What feeling do you want your shop to evoke? (e.g., timeless elegance, natural beauty, modern chic)\n",
       "*   **Availability:** Check if the name is available as a website domain and social media handle.\n",
       "*   **Memorability:** Is the name easy to remember and pronounce?\n",
       "*   **Local Relevance:** Does the name resonate with your local community or area?\n",
       "\n",
       "**Tips for testing the name:**\n",
       "\n",
       "*   Say it out loud and see how it sounds.\n",
       "*   Ask friends and family for their opinions.\n",
       "*   Imagine the name on your storefront and marketing materials.\n",
       "\n",
       "I hope this gives you a good starting point!  Good luck with your flower shop!\n"
      ],
      "text/plain": [
       "<IPython.core.display.Markdown object>"
      ]
     },
     "metadata": {},
     "output_type": "display_data"
    }
   ],
   "source": [
    "prompt = \"What do you think could be a good name for a flower shop that specializes in selling bouquets of dried flowers more than fresh flowers?\"\n",
    "\n",
    "response = client.models.generate_content(model=MODEL_ID, contents=prompt)\n",
    "display(Markdown(response.text))"
   ]
  },
  {
   "cell_type": "markdown",
   "metadata": {
    "id": "YrJexRHJYnmC"
   },
   "source": [
    "✅ Recommended. The prompt below is to the point and concise."
   ]
  },
  {
   "cell_type": "code",
   "execution_count": 7,
   "metadata": {
    "id": "VHetn9lCYrXB",
    "tags": []
   },
   "outputs": [
    {
     "data": {
      "text/markdown": [
       "Okay, here are some name suggestions for a dried flower shop, playing with different angles:\n",
       "\n",
       "**Classic & Elegant:**\n",
       "\n",
       "*   The Everbloom\n",
       "*   Lasting Petals\n",
       "*   Preserved Posies\n",
       "*   The Still Life Florist\n",
       "*   Forever in Bloom\n",
       "*   Golden Bloom\n",
       "*   The Dried Flower Emporium\n",
       "*   Wither & Bloom (a bit more edgy)\n",
       "\n",
       "**Modern & Chic:**\n",
       "\n",
       "*   Dried & Darling\n",
       "*   The Bloom Bar (Dried)\n",
       "*   Everlasting Florals\n",
       "*   The Dry Garden\n",
       "*   Dust & Bloom\n",
       "*   Rooted & Revered (suggests a connection to nature)\n",
       "*   Dried Palette\n",
       "*   The Artful Dry\n",
       "\n",
       "**Nature-Focused & Rustic:**\n",
       "\n",
       "*   Prairie Petals\n",
       "*   The Harvest Bloom\n",
       "*   Wildflower Remains\n",
       "*   Sunbaked Blooms\n",
       "*   Earth & Ether Florals\n",
       "*   The Golden Meadow\n",
       "*   Whispers of the Wild\n",
       "*   From the Earth\n",
       "\n",
       "**Playful & Unique:**\n",
       "\n",
       "*   Petal Pusher (Dried)\n",
       "*   The Bloom Room (Keepsakes)\n",
       "*   The Time Capsule Florist\n",
       "*   Dried & True\n",
       "*   Second Bloom\n",
       "*   The Bloom Alchemist\n",
       "*   The Petal Apothecary\n",
       "\n",
       "**Location Specific (Adaptable):**\n",
       "\n",
       "*   [Your Town/Area] Dried Flowers\n",
       "*   [Street Name] Florals\n",
       "*   The [Landmark] Bloom\n",
       "\n",
       "**Tips for Choosing:**\n",
       "\n",
       "*   **Consider your target audience:** Are you aiming for a luxury clientele, or a more casual, bohemian vibe?\n",
       "*   **Check for availability:** Make sure the name isn't already in use by another business in your area (or online).\n",
       "*   **Say it out loud:** Does the name sound good and is it easy to remember?\n",
       "*   **Get feedback:** Ask friends, family, or potential customers what they think of your top choices.\n",
       "*   **Think about your branding:** The name should align with your overall aesthetic and brand message.\n",
       "*   **Is it available as a domain name?** Crucial for your online presence.\n",
       "\n",
       "I hope this gives you a good starting point! Good luck!\n"
      ],
      "text/plain": [
       "<IPython.core.display.Markdown object>"
      ]
     },
     "metadata": {},
     "output_type": "display_data"
    }
   ],
   "source": [
    "prompt = \"Suggest a name for a flower shop that sells bouquets of dried flowers\"\n",
    "\n",
    "response = client.models.generate_content(model=MODEL_ID, contents=prompt)\n",
    "display(Markdown(response.text))"
   ]
  },
  {
   "cell_type": "markdown",
   "metadata": {
    "id": "eXTAvdOHY0OC"
   },
   "source": [
    "### Be specific, and well-defined"
   ]
  },
  {
   "cell_type": "markdown",
   "metadata": {
    "id": "FTH4GEIgY1dp"
   },
   "source": [
    "Suppose that you want to brainstorm creative ways to describe Earth."
   ]
  },
  {
   "cell_type": "markdown",
   "metadata": {
    "id": "o5BmXBiGY4KC"
   },
   "source": [
    "🛑 The prompt below might be a bit too generic (which is certainly OK if you'd like to ask a generic question!)"
   ]
  },
  {
   "cell_type": "code",
   "execution_count": 8,
   "metadata": {
    "id": "eHBaMvv7Y6mR",
    "tags": []
   },
   "outputs": [
    {
     "data": {
      "text/markdown": [
       "Okay, let's dive into the amazing planet we call home: Earth! Here's a comprehensive overview:\n",
       "\n",
       "**Basics:**\n",
       "\n",
       "*   **Name:** Earth (The name comes from the Old English words 'eorþe' and 'ertha', meaning ground or soil.)\n",
       "*   **Symbol:** ♁\n",
       "*   **Position in the Solar System:** Third planet from the Sun.\n",
       "*   **Type:** Terrestrial (rocky) planet.\n",
       "*   **Size:**\n",
       "    *   **Equatorial Radius:** 6,378.1 km (3,963.2 miles)\n",
       "    *   **Equatorial Circumference:** 40,075 km (24,901 miles)\n",
       "    *   **Mass:** 5.972 × 10^24 kg\n",
       "*   **Age:** Approximately 4.54 billion years old.\n",
       "*   **Rotation:** Rotates on its axis, taking approximately 24 hours (more precisely, 23 hours, 56 minutes, and 4 seconds) to complete one rotation, which defines a day.\n",
       "*   **Orbit:** Orbits the Sun, taking approximately 365.25 days to complete one orbit, which defines a year. The .25 is why we have a leap year every 4 years.\n",
       "*   **Moon(s):** One natural satellite, simply called \"The Moon.\"\n",
       "\n",
       "**Key Characteristics & Features:**\n",
       "\n",
       "*   **Habitable Zone:** Earth resides in the Sun's habitable zone, meaning the temperature range allows for liquid water to exist on its surface, which is crucial for life as we know it.\n",
       "*   **Water:** A defining feature of Earth is its abundance of liquid water, covering about 71% of the surface. This exists in oceans, lakes, rivers, ice caps, and groundwater. Water is essential for life, regulates temperature, and shapes the planet's surface.\n",
       "*   **Atmosphere:** Earth has a unique atmosphere composed primarily of:\n",
       "    *   78% Nitrogen\n",
       "    *   21% Oxygen\n",
       "    *   ~1% Argon and other trace gases.\n",
       "\n",
       "    The atmosphere:\n",
       "    *   Protects us from harmful solar radiation (ultraviolet, X-rays, gamma rays) and space debris.\n",
       "    *   Regulates temperature through the greenhouse effect (trapping some of the Sun's heat).\n",
       "    *   Is essential for weather and climate patterns.\n",
       "*   **Magnetic Field:** Generated by the movement of molten iron in Earth's outer core. This magnetic field deflects harmful solar wind and cosmic radiation, protecting the atmosphere and life on Earth.\n",
       "*   **Geology:**\n",
       "    *   **Crust:** The outermost solid layer, divided into tectonic plates.\n",
       "    *   **Mantle:** A thick, mostly solid layer beneath the crust.\n",
       "    *   **Outer Core:** A liquid layer of iron and nickel.\n",
       "    *   **Inner Core:** A solid sphere of iron and nickel.\n",
       "    *   **Plate Tectonics:** The Earth's crust is divided into plates that are constantly moving, colliding, separating, and sliding past each other. This process drives:\n",
       "        *   **Continental Drift:** The slow movement of continents over millions of years.\n",
       "        *   **Earthquakes:** Sudden releases of energy along fault lines.\n",
       "        *   **Volcanoes:** Eruptions of molten rock (magma) from the Earth's interior.\n",
       "        *   **Mountain Formation:** Collisions of plates can uplift land, creating mountain ranges.\n",
       "*   **Surface Features:**\n",
       "    *   **Continents:** Large landmasses (Africa, Antarctica, Asia, Australia, Europe, North America, South America).\n",
       "    *   **Oceans:** Vast bodies of saltwater (Arctic, Atlantic, Indian, Pacific, Southern).\n",
       "    *   **Mountains:** Elevated landforms created by tectonic forces or volcanic activity.\n",
       "    *   **Valleys:** Depressions in the Earth's surface, often formed by erosion.\n",
       "    *   **Deserts:** Arid regions with little rainfall and sparse vegetation.\n",
       "    *   **Polar Ice Caps:** Large areas of ice covering the Arctic and Antarctic regions.\n",
       "*   **Life:** Earth is the only known planet to harbor life. It is incredibly diverse, ranging from microscopic bacteria to giant whales.\n",
       "\n",
       "**Important Concepts & Processes:**\n",
       "\n",
       "*   **Seasons:** Caused by the Earth's axial tilt (23.5 degrees) as it orbits the Sun. Different parts of the Earth receive more direct sunlight at different times of the year.\n",
       "*   **Climate:** The long-term average of weather patterns in a region. Influenced by factors such as latitude, altitude, proximity to oceans, and atmospheric circulation.\n",
       "*   **Weather:** The day-to-day conditions of the atmosphere, including temperature, precipitation, wind, and cloud cover.\n",
       "*   **Ecosystems:** Communities of living organisms interacting with their physical environment.\n",
       "*   **Biodiversity:** The variety of life on Earth, encompassing all different species, ecosystems, and genetic variations.\n",
       "\n",
       "**Human Impact:**\n",
       "\n",
       "*   **Climate Change:** The increasing concentration of greenhouse gases in the atmosphere due to human activities (burning fossil fuels, deforestation) is causing global warming and significant changes in the Earth's climate.\n",
       "*   **Pollution:** Contamination of air, water, and soil with harmful substances.\n",
       "*   **Deforestation:** Clearing forests for agriculture, logging, and development.\n",
       "*   **Overpopulation:** The growing human population is putting increasing pressure on the Earth's resources.\n",
       "*   **Extinction:** Human activities are driving species to extinction at an alarming rate, leading to a loss of biodiversity.\n",
       "\n",
       "**Why Earth is Special:**\n",
       "\n",
       "*   **Unique Combination of Factors:** Earth's distance from the Sun, its atmosphere, its abundance of water, and its geological activity have all combined to create a planet capable of supporting life.\n",
       "*   **Home to Humanity:** Earth is our only known home, and it provides all the resources we need to survive.\n",
       "*   **A Place of Wonder:** Earth is a beautiful and complex planet with a rich history and an incredible diversity of life.\n",
       "\n",
       "**In short, Earth is a dynamic, complex, and precious planet. It is the only place we know of in the universe that can support life, and it is our responsibility to protect it for future generations.**\n",
       "\n",
       "Do you have any specific questions about Earth that you'd like me to answer in more detail? For example:\n",
       "\n",
       "*   Do you want to know more about a specific geological feature?\n",
       "*   Are you interested in a particular biome?\n",
       "*   Do you want to know more about climate change?\n",
       "*   Do you have questions about the Earth's future?\n"
      ],
      "text/plain": [
       "<IPython.core.display.Markdown object>"
      ]
     },
     "metadata": {},
     "output_type": "display_data"
    }
   ],
   "source": [
    "prompt = \"Tell me about Earth\"\n",
    "\n",
    "response = client.models.generate_content(model=MODEL_ID, contents=prompt)\n",
    "display(Markdown(response.text))"
   ]
  },
  {
   "cell_type": "markdown",
   "metadata": {
    "id": "4iyvEbteZnFL"
   },
   "source": [
    "✅ Recommended. The prompt below is specific and well-defined."
   ]
  },
  {
   "cell_type": "code",
   "execution_count": 9,
   "metadata": {
    "id": "JQ80z8urZnne",
    "tags": []
   },
   "outputs": [
    {
     "data": {
      "text/markdown": [
       "Okay, here's a list of features that make Earth unique, or at least highly unusual, compared to other planets we know of:\n",
       "\n",
       "**Key Factors for Life:**\n",
       "\n",
       "*   **Liquid Water on the Surface:** This is arguably the most crucial factor. Water acts as a universal solvent, facilitating complex chemical reactions necessary for life as we know it. Other planets have water in ice form or potentially in subsurface oceans, but a stable, large body of liquid water on the *surface* is unique to Earth.\n",
       "\n",
       "*   **Oxygen-Rich Atmosphere:** Earth's atmosphere is about 21% oxygen, a byproduct of photosynthesis by plants and algae. This high concentration is crucial for complex, energy-intensive life forms (like animals) to thrive. Most other planetary atmospheres are dominated by carbon dioxide, methane, or other gases.\n",
       "\n",
       "*   **Plate Tectonics:** The Earth's crust is divided into plates that move and interact. This process recycles elements, regulates the climate over long timescales, and helps maintain a relatively stable temperature. Plate tectonics also plays a role in creating diverse landforms and geological environments.\n",
       "\n",
       "*   **Magnetic Field:** Generated by the Earth's molten iron core, the magnetic field deflects harmful solar wind and cosmic radiation, protecting the atmosphere and life on the surface. While other planets have magnetic fields, Earth's is particularly strong and stable.\n",
       "\n",
       "*   **Stable Climate:** Earth's climate is relatively stable over long periods, thanks to factors like the greenhouse effect (regulated by the atmosphere), the presence of oceans, and the feedback mechanisms associated with plate tectonics and the carbon cycle. This stability allows life to evolve and adapt.\n",
       "\n",
       "**Other Important Factors:**\n",
       "\n",
       "*   **Ozone Layer:** A layer in the stratosphere that absorbs most of the Sun's harmful ultraviolet (UV) radiation. This protection allows life to flourish on land and in shallow waters.\n",
       "\n",
       "*   **A Large Moon:** The Moon stabilizes Earth's axial tilt (obliquity), preventing drastic climate swings. It also influences tides, which may have played a role in the origin of life. The size ratio of Earth to its moon is unusually large compared to other planets and their moons.\n",
       "\n",
       "*   **Location in the Habitable Zone:** Earth orbits the Sun at a distance that allows liquid water to exist on its surface. Planets too close to their star are too hot, and planets too far are too cold.\n",
       "\n",
       "*   **Abundance of Carbon:** Carbon is the backbone of all known life. Earth has a relatively high abundance of carbon compared to some other planets.\n",
       "\n",
       "**Factors Related to Life & Observation:**\n",
       "\n",
       "*   **The Presence of Life Itself:**  This is the most obvious difference! As far as we currently know, Earth is the only planet harboring life. The biosphere has drastically altered the planet's atmosphere, geology, and surface.\n",
       "\n",
       "*   **Technological Civilization:** Earth is the only known planet with a technological civilization capable of altering its environment, communicating across vast distances, and contemplating its place in the universe.\n",
       "\n",
       "*   **Extensive Exploration and Study:** Because we live here, Earth is by far the most studied planet in the solar system and beyond. We have a far deeper understanding of its geology, atmosphere, and history than any other planet.\n",
       "\n",
       "**Important Considerations:**\n",
       "\n",
       "*   **Our Limited Sample Size:**  We've only explored a tiny fraction of the planets in our galaxy, and we can only study them remotely. It's possible that Earth-like planets are more common than we currently think.\n",
       "\n",
       "*   **Definition of \"Unique\":** Some features of Earth may exist on other planets, but the combination of *all* these factors is what makes Earth truly special.\n",
       "\n",
       "*   **Evolving Knowledge:** Our understanding of planets is constantly evolving as we develop new technologies and explore further into space. What we consider unique today might be found elsewhere in the future.\n",
       "\n",
       "In conclusion, while some of Earth's individual characteristics may exist on other planets, the unique combination of liquid water, an oxygen-rich atmosphere, plate tectonics, a strong magnetic field, a stable climate, and of course, life itself, makes our planet a very special place in the universe.\n"
      ],
      "text/plain": [
       "<IPython.core.display.Markdown object>"
      ]
     },
     "metadata": {},
     "output_type": "display_data"
    }
   ],
   "source": [
    "prompt = \"Generate a list of ways that makes Earth unique compared to other planets\"\n",
    "\n",
    "response = client.models.generate_content(model=MODEL_ID, contents=prompt)\n",
    "display(Markdown(response.text))"
   ]
  },
  {
   "cell_type": "markdown",
   "metadata": {
    "id": "R5kmfZYHZsJ7"
   },
   "source": [
    "### Ask one task at a time"
   ]
  },
  {
   "cell_type": "markdown",
   "metadata": {
    "id": "rsAezxeYZuUN"
   },
   "source": [
    "🛑 Not recommended. The prompt below has two parts to the question that could be asked separately."
   ]
  },
  {
   "cell_type": "code",
   "execution_count": 10,
   "metadata": {
    "id": "ElywPXpuZtWf",
    "tags": []
   },
   "outputs": [
    {
     "data": {
      "text/markdown": [
       "Let's tackle these two separate questions!\n",
       "\n",
       "**1. Best Method of Boiling Water:**\n",
       "\n",
       "There isn't a single \"best\" method universally. It depends on your specific needs and priorities:\n",
       "\n",
       "*   **Fastest:**\n",
       "    *   **Electric Kettle:** Generally the fastest for small to moderate amounts of water. They are designed to efficiently transfer energy.\n",
       "    *   **Induction Cooktop:** If you have an induction cooktop, it's often nearly as fast as an electric kettle.\n",
       "\n",
       "*   **Most Energy Efficient:**\n",
       "    *   **Electric Kettle:** Very efficient because almost all the electrical energy goes directly into heating the water.\n",
       "    *   **Microwave (Potentially):** For very *small* amounts of water, a microwave can be energy efficient. However, it's often less efficient than a kettle for larger amounts.\n",
       "\n",
       "*   **Most Convenient (for Large Amounts):**\n",
       "    *   **Gas Stove:** Good for larger pots of water, especially if you need precise temperature control (e.g., for cooking).\n",
       "    *   **Electric Stove (Coil or Ceramic):** Also good for larger amounts, but often slower and less energy-efficient than gas or induction.\n",
       "\n",
       "*   **Most Versatile (for Cooking):**\n",
       "    *   **Gas Stove/Electric Stove:** Necessary if you're boiling water as part of a larger cooking process where you need to maintain a simmer or adjust the heat while other ingredients are added.\n",
       "\n",
       "*   **Outdoor/Camping:**\n",
       "    *   **Camping Stove (Propane/Butane):** Portable and designed for outdoor use.\n",
       "    *   **Campfire:** While romantic, a campfire is the least efficient and most difficult to control.\n",
       "\n",
       "**In summary:**  For speed and energy efficiency for small to moderate amounts, an electric kettle is often the best choice.  For larger quantities or when integrating with cooking, a stove is generally better.\n",
       "\n",
       "**2. Why the Sky is Blue:**\n",
       "\n",
       "The sky is blue due to a phenomenon called **Rayleigh scattering.** Here's the simplified explanation:\n",
       "\n",
       "*   **Sunlight:** Sunlight is actually composed of all the colors of the rainbow.\n",
       "\n",
       "*   **Atmosphere:** The Earth's atmosphere is made up of gases and other tiny particles (like dust and water droplets).\n",
       "\n",
       "*   **Scattering:** When sunlight enters the atmosphere, it collides with these particles.  This collision causes the light to scatter in different directions.\n",
       "\n",
       "*   **Rayleigh Scattering:**  Rayleigh scattering is *more* effective at scattering shorter wavelengths of light (blue and violet) than longer wavelengths (red and orange). This is because the size of the air molecules is closer to the wavelength of blue light.\n",
       "\n",
       "*   **Why Blue, Not Violet?**  While violet light is scattered even *more* than blue, the sun emits less violet light, and our eyes are also less sensitive to violet. Therefore, we perceive the sky as blue.\n",
       "\n",
       "**Think of it like this:** Imagine throwing a small ball (blue light) and a large ball (red light) at a bunch of obstacles (air molecules). The small ball will be deflected more easily in different directions than the large ball.\n",
       "\n",
       "**Sunrise and Sunset:**\n",
       "\n",
       "At sunrise and sunset, the sunlight has to travel through *much* more of the atmosphere to reach our eyes.  The blue light has been scattered away by the time it gets to us.  The longer wavelengths (red and orange) are scattered less and make it through, giving us the beautiful red and orange hues we see at those times.\n"
      ],
      "text/plain": [
       "<IPython.core.display.Markdown object>"
      ]
     },
     "metadata": {},
     "output_type": "display_data"
    }
   ],
   "source": [
    "prompt = \"What's the best method of boiling water and why is the sky blue?\"\n",
    "\n",
    "response = client.models.generate_content(model=MODEL_ID, contents=prompt)\n",
    "display(Markdown(response.text))"
   ]
  },
  {
   "cell_type": "markdown",
   "metadata": {
    "id": "ejzahazBZ8vk"
   },
   "source": [
    "✅ Recommended. The prompts below asks one task a time."
   ]
  },
  {
   "cell_type": "code",
   "execution_count": 11,
   "metadata": {
    "id": "C5ckp2F0Z_Ba",
    "tags": []
   },
   "outputs": [
    {
     "data": {
      "text/markdown": [
       "The \"best\" method of boiling water depends on what you value most: speed, energy efficiency, cost, convenience, or specific requirements. Here's a breakdown of common methods and their pros and cons:\n",
       "\n",
       "**1. Electric Kettle:**\n",
       "\n",
       "*   **Pros:**\n",
       "    *   **Speed:** Generally the fastest for small to medium amounts of water (up to 1.7 liters).\n",
       "    *   **Convenience:** Easy to use, automatic shut-off.\n",
       "    *   **Energy Efficient (Generally):** Heat only the water you need, often more efficient than stovetop for small quantities.\n",
       "    *   **Safety:** Most have auto shut-off and stay-cool exteriors.\n",
       "*   **Cons:**\n",
       "    *   **Capacity:** Limited by the size of the kettle.\n",
       "    *   **Corded or Cordless:** Corded kettles require placement near an outlet.\n",
       "    *   **Material:** Can be plastic, stainless steel, or glass; some people have preferences due to concerns about taste or health. Plastic kettles may leach chemicals (BPA-free are preferable).\n",
       "*   **Best for:** Most everyday situations where you need hot water quickly and conveniently, especially for tea, coffee, or small-batch cooking.\n",
       "\n",
       "**2. Stovetop (Pot on a Burner):**\n",
       "\n",
       "*   **Pros:**\n",
       "    *   **Capacity:** Can boil large quantities of water in a big pot.\n",
       "    *   **Versatile:** Works on various stovetop types (gas, electric, induction).\n",
       "    *   **No Special Equipment Required:** You probably already have a pot.\n",
       "*   **Cons:**\n",
       "    *   **Slower:** Takes longer than an electric kettle, especially for smaller amounts.\n",
       "    *   **Less Energy Efficient:** Heat is lost to the surrounding air.  Gas stoves are generally less efficient than induction or electric radiant.\n",
       "    *   **Requires Monitoring:** You need to watch it to prevent it from boiling over.\n",
       "*   **Best for:** Boiling large amounts of water for pasta, canning, or other situations where capacity is more important than speed or energy efficiency.\n",
       "\n",
       "**3. Microwave:**\n",
       "\n",
       "*   **Pros:**\n",
       "    *   **Speed:** Can be faster than stovetop for small amounts of water.\n",
       "    *   **Convenience:** Easy to use.\n",
       "*   **Cons:**\n",
       "    *   **Uneven Heating:** Microwaves can heat water unevenly, leading to \"superheating,\" where the water gets hotter than its boiling point without actually boiling. This can cause it to erupt violently when disturbed (like adding a spoon).\n",
       "    *   **Safety Concerns:** Superheating is a real hazard.\n",
       "    *   **Less Energy Efficient:** Microwaves generally aren't optimized for boiling water.\n",
       "    *   **Taste:** Some people find microwaved water has a slightly different taste.\n",
       "*   **Best for:**  Generally *not recommended* for boiling water due to the risk of superheating. If you *must* use a microwave, use a microwave-safe container, put a wooden stick or spoon in the water, and heat in short intervals, checking frequently.  Stir before removing.\n",
       "\n",
       "**4. Induction Cooktop (with a Pot):**\n",
       "\n",
       "*   **Pros:**\n",
       "    *   **Speed:** Can be very fast, rivaling or exceeding electric kettles, *if* you have a good induction-compatible pot.\n",
       "    *   **Energy Efficient:** Highly energy-efficient because the heat is transferred directly to the pot.\n",
       "    *   **Precise Temperature Control:** Induction cooktops often offer precise temperature settings.\n",
       "*   **Cons:**\n",
       "    *   **Requires Induction-Compatible Cookware:** Only works with pots and pans made of ferromagnetic materials (like cast iron or stainless steel).\n",
       "    *   **Initial Investment:** Induction cooktops can be more expensive than other types of stoves.\n",
       "*   **Best for:**  Fast, energy-efficient boiling of water if you already have an induction cooktop and compatible cookware.\n",
       "\n",
       "**In Summary:**\n",
       "\n",
       "*   **For most people, the electric kettle is the best overall option** due to its speed, convenience, and energy efficiency for smaller quantities.\n",
       "*   **The stovetop is best for large quantities.**\n",
       "*   **Avoid using a microwave for boiling water if possible due to safety concerns.**\n",
       "*   **Induction is excellent if you already have the setup.**\n",
       "\n",
       "Consider your specific needs and priorities when choosing the best method for you.\n"
      ],
      "text/plain": [
       "<IPython.core.display.Markdown object>"
      ]
     },
     "metadata": {},
     "output_type": "display_data"
    }
   ],
   "source": [
    "prompt = \"What's the best method of boiling water?\"\n",
    "\n",
    "response = client.models.generate_content(model=MODEL_ID, contents=prompt)\n",
    "display(Markdown(response.text))"
   ]
  },
  {
   "cell_type": "code",
   "execution_count": 12,
   "metadata": {
    "id": "KwUzhud4aA89",
    "tags": []
   },
   "outputs": [
    {
     "data": {
      "text/markdown": [
       "The sky appears blue due to a phenomenon called **Rayleigh scattering**. Here's the breakdown:\n",
       "\n",
       "*   **Sunlight is made up of all colors:** White sunlight is actually a mix of all the colors of the rainbow.\n",
       "*   **Sunlight enters the Earth's atmosphere:** As sunlight enters the Earth's atmosphere, it collides with air molecules (mostly nitrogen and oxygen).\n",
       "*   **Shorter wavelengths are scattered more:** When light collides with these molecules, it gets scattered in different directions. Shorter wavelengths of light, like blue and violet, are scattered much more effectively than longer wavelengths like red and orange.\n",
       "*   **Blue dominates:** Violet light is scattered even more than blue. However, there's less violet in sunlight to begin with, and our eyes are more sensitive to blue. Thus, we perceive the sky as blue because blue light is scattered the most and reaches our eyes from all directions.\n",
       "\n",
       "**In simpler terms:** Imagine throwing a handful of marbles (sunlight) at a bunch of bowling pins (air molecules). The smaller marbles (blue and violet light) will bounce off in all directions more easily than the larger marbles (red and orange light).\n",
       "\n",
       "**Why not violet then?**\n",
       "\n",
       "*   The sun emits slightly less violet light than blue light.\n",
       "*   Our eyes are less sensitive to violet light than blue light.\n",
       "*   The upper atmosphere absorbs some violet light.\n",
       "\n",
       "**Why are sunsets red/orange?**\n",
       "\n",
       "When the sun is low on the horizon (at sunrise and sunset), sunlight has to travel through more of the atmosphere to reach our eyes. This means that most of the blue light has already been scattered away by the time the light reaches us. The remaining light, which has longer wavelengths like red and orange, can pass through the atmosphere more easily and reach our eyes, making the sunset appear reddish or orange.\n"
      ],
      "text/plain": [
       "<IPython.core.display.Markdown object>"
      ]
     },
     "metadata": {},
     "output_type": "display_data"
    }
   ],
   "source": [
    "prompt = \"Why is the sky blue?\"\n",
    "\n",
    "response = client.models.generate_content(model=MODEL_ID, contents=prompt)\n",
    "display(Markdown(response.text))"
   ]
  },
  {
   "cell_type": "markdown",
   "metadata": {
    "id": "PJIL2RTQaGcT"
   },
   "source": [
    "### Watch out for hallucinations"
   ]
  },
  {
   "cell_type": "markdown",
   "metadata": {
    "id": "8Y8kYxrSaHE9"
   },
   "source": [
    "Although LLMs have been trained on a large amount of data, they can generate text containing statements not grounded in truth or reality; these responses from the LLM are often referred to as \"hallucinations\" due to their limited memorization capabilities. Note that simply prompting the LLM to provide a citation isn't a fix to this problem, as there are instances of LLMs providing false or inaccurate citations. Dealing with hallucinations is a fundamental challenge of LLMs and an ongoing research area, so it is important to be cognizant that LLMs may seem to give you confident, correct-sounding statements that are in fact incorrect.\n",
    "\n",
    "Note that if you intend to use LLMs for the creative use cases, hallucinating could actually be quite useful."
   ]
  },
  {
   "cell_type": "markdown",
   "metadata": {
    "id": "8NY5nAGeaJYS"
   },
   "source": [
    "Try the prompt like the one below repeatedly. We set the temperature to `1.0` so that it takes more risks in its choices. It's possible that it may provide an inaccurate, but confident answer."
   ]
  },
  {
   "cell_type": "code",
   "execution_count": 13,
   "metadata": {
    "id": "QALPjEILaM62",
    "tags": []
   },
   "outputs": [
    {
     "data": {
      "text/markdown": [
       "Today is Sunday, November 12th, 2023.\n"
      ],
      "text/plain": [
       "<IPython.core.display.Markdown object>"
      ]
     },
     "metadata": {},
     "output_type": "display_data"
    }
   ],
   "source": [
    "generation_config = GenerateContentConfig(temperature=1.0)\n",
    "\n",
    "prompt = \"What day is it today?\"\n",
    "\n",
    "response = client.models.generate_content(model=MODEL_ID, contents=prompt)\n",
    "display(Markdown(response.text))"
   ]
  },
  {
   "cell_type": "markdown",
   "metadata": {
    "id": "BRkwzbgRbhKt"
   },
   "source": [
    "Since LLMs do not have access to real-time information without further integrations, you may have noticed it hallucinates what day it is today in some of the outputs."
   ]
  },
  {
   "cell_type": "markdown",
   "metadata": {},
   "source": [
    "## Reduce Output Variability"
   ]
  },
  {
   "cell_type": "markdown",
   "metadata": {
    "id": "3c811e310d02"
   },
   "source": [
    "### Using system instructions to guardrail the model from irrelevant responses\n",
    "\n",
    "How can we attempt to reduce the chances of irrelevant responses and hallucinations?\n",
    "\n",
    "One way is to provide the LLM with [system instructions](https://cloud.google.com/vertex-ai/generative-ai/docs/multimodal/send-chat-prompts-gemini#system-instructions).\n",
    "\n",
    "Let's see how system instructions works and how you can use them to reduce hallucinations or irrelevant questions for a travel chatbot.\n",
    "\n",
    "Suppose we ask a simple question about one of Italy's most famous tourist spots."
   ]
  },
  {
   "cell_type": "code",
   "execution_count": 14,
   "metadata": {
    "id": "rB6zJU76biFK",
    "tags": []
   },
   "outputs": [
    {
     "data": {
      "text/markdown": [
       "Milan offers a wealth of amazing sights! To give you the best recommendation, could you tell me what kind of sightseeing you enjoy most? For example:\n",
       "\n",
       "*   **Art and architecture?** (e.g., museums, historical buildings, churches)\n",
       "*   **Shopping and fashion?** (e.g., designer boutiques, trendy neighborhoods)\n",
       "*   **History?** (e.g., historical sites, monuments)\n",
       "*   **Food and drink?** (e.g., local markets, cafes, restaurants)\n",
       "*   **Parks and nature?** (e.g., gardens, scenic views)\n",
       "\n",
       "Once I know your interests, I can suggest the perfect places for you in Milan!\n"
      ],
      "text/plain": [
       "<IPython.core.display.Markdown object>"
      ]
     },
     "metadata": {},
     "output_type": "display_data"
    }
   ],
   "source": [
    "generation_config = GenerateContentConfig(temperature=1.0)\n",
    "\n",
    "chat = client.chats.create(\n",
    "    model=MODEL_ID,\n",
    "    config=GenerateContentConfig(\n",
    "        system_instruction=[\n",
    "            \"Hello! You are an AI chatbot for a travel web site.\",\n",
    "            \"Your mission is to provide helpful queries for travelers.\",\n",
    "            \"Remember that before you answer a question, you must check to see if it complies with your mission.\",\n",
    "            \"If not, you can say, Sorry I can't answer that question.\",\n",
    "        ]\n",
    "    ),\n",
    ")\n",
    "\n",
    "prompt = \"What is the best place for sightseeing in Milan, Italy?\"\n",
    "\n",
    "response = chat.send_message(prompt)\n",
    "display(Markdown(response.text))"
   ]
  },
  {
   "cell_type": "markdown",
   "metadata": {
    "id": "WZa-Qcf9cF4A"
   },
   "source": [
    "Now let us pretend to be a user asks the chatbot a question that is unrelated to travel."
   ]
  },
  {
   "cell_type": "code",
   "execution_count": 15,
   "metadata": {
    "id": "AZKBIDr2cGnu",
    "tags": []
   },
   "outputs": [
    {
     "data": {
      "text/markdown": [
       "Milan has so much to offer! To help you find the best place for sightseeing, I need a little more information about what you're interested in.\n",
       "\n",
       "*   **Are you interested in art, history, fashion, food, or something else?**\n",
       "*   **Are you traveling solo, as a couple, with family, or with friends?**\n",
       "*   **Do you have any specific landmarks or attractions in mind?**\n",
       "\n",
       "Once I have a better understanding of your preferences, I can provide you with a more personalized recommendation.\n"
      ],
      "text/plain": [
       "<IPython.core.display.Markdown object>"
      ]
     },
     "metadata": {},
     "output_type": "display_data"
    }
   ],
   "source": [
    "prompt = \"What is the best place for sightseeing in Milan, Italy?\"\n",
    "\n",
    "response = chat.send_message(prompt)\n",
    "display(Markdown(response.text))"
   ]
  },
  {
   "cell_type": "markdown",
   "metadata": {
    "id": "JiUYIhwpctCy"
   },
   "source": [
    "You can see that this way, a guardrail in the prompt prevented the chatbot from veering off course."
   ]
  },
  {
   "cell_type": "markdown",
   "metadata": {
    "id": "ZuuDhA37cvmP"
   },
   "source": [
    "### Turn generative tasks into classification tasks to reduce output variability"
   ]
  },
  {
   "cell_type": "markdown",
   "metadata": {
    "id": "kUCUrsUzczmb"
   },
   "source": [
    "#### Generative tasks lead to higher output variability"
   ]
  },
  {
   "cell_type": "markdown",
   "metadata": {
    "id": "a1xASHAkc46n"
   },
   "source": [
    "The prompt below results in an open-ended response, useful for brainstorming, but response is highly variable."
   ]
  },
  {
   "cell_type": "code",
   "execution_count": 16,
   "metadata": {
    "id": "nPfXQWIacwRf",
    "tags": []
   },
   "outputs": [
    {
     "data": {
      "text/markdown": [
       "Okay, here are a few programming activity recommendations for a high school student, categorized by skill level and interests. I'll try to give you a range so you can find something that sparks your interest and challenges you appropriately:\n",
       "\n",
       "**Beginner Friendly (Good for Learning the Fundamentals):**\n",
       "\n",
       "*   **1. Text-Based Adventure Game (Python or any scripting language):**\n",
       "\n",
       "    *   **Description:**  Create a simple game where the user types commands (e.g., \"go north,\" \"look around,\" \"take sword\") to navigate a world described by text.  This is excellent for learning basic input/output, conditional statements (if/else), and string manipulation.\n",
       "    *   **Benefits:** Easy to get started, lots of room for expansion (adding items, enemies, puzzles).\n",
       "    *   **Resources:**  Tons of tutorials online; search for \"Python text-based adventure game tutorial.\"\n",
       "    *   **Focus:** Conditionals, loops, string manipulation, user input.\n",
       "    *   **Example:**\n",
       "        ```python\n",
       "        def start_game():\n",
       "            print(\"You are standing in a dark forest.\")\n",
       "            choice = input(\"Do you go left or right? (left/right): \")\n",
       "\n",
       "            if choice == \"left\":\n",
       "                print(\"You find a hidden treasure!\")\n",
       "            elif choice == \"right\":\n",
       "                print(\"A monster attacks you!\")\n",
       "            else:\n",
       "                print(\"Invalid choice.\")\n",
       "\n",
       "        start_game()\n",
       "        ```\n",
       "\n",
       "*   **2. Simple Calculator (Python, JavaScript, Java):**\n",
       "\n",
       "    *   **Description:** Build a calculator that can perform basic arithmetic operations (+, -, \\*, /).\n",
       "    *   **Benefits:** Good for understanding data types (numbers, strings), operators, and handling potential errors (e.g., division by zero).\n",
       "    *   **Resources:**  Very common beginner project; many tutorials available.\n",
       "    *   **Focus:** Arithmetic operations, input validation, functions.\n",
       "\n",
       "*   **3. To-Do List Application (Python, JavaScript):**\n",
       "\n",
       "    *   **Description:**  Create a program that allows the user to add tasks, mark them as complete, and view the list.\n",
       "    *   **Benefits:** Introduces you to basic data structures (lists, dictionaries), file input/output (to save the list between sessions), and user interaction.\n",
       "    *   **Resources:**  Plenty of tutorials online; can be done in the terminal or with a simple GUI.\n",
       "    *   **Focus:** Lists, loops, file I/O (optional), basic GUI (optional).\n",
       "\n",
       "**Intermediate Level (Building on the Basics):**\n",
       "\n",
       "*   **4. Number Guessing Game with AI (Python):**\n",
       "\n",
       "    *   **Description:**  The user thinks of a number, and the computer tries to guess it.  Implement a simple \"binary search\" algorithm to guess efficiently.\n",
       "    *   **Benefits:** Introduces algorithms, problem-solving, and thinking about efficiency.\n",
       "    *   **Resources:**  Search for \"Python number guessing game binary search.\"\n",
       "    *   **Focus:** Algorithms (binary search), loops, comparisons.\n",
       "\n",
       "*   **5. Simple Web Scraper (Python with `requests` and `BeautifulSoup`):**\n",
       "\n",
       "    *   **Description:**  Write a program to extract data from a website (e.g., headlines from a news site, product prices from an online store).  *Be sure to respect the website's terms of service and robots.txt file!*\n",
       "    *   **Benefits:** Introduces you to web technologies, HTTP requests, and parsing HTML.\n",
       "    *   **Resources:**  Search for \"Python web scraping tutorial BeautifulSoup.\"\n",
       "    *   **Focus:** HTTP requests, HTML parsing, string manipulation, working with external libraries.\n",
       "\n",
       "*   **6.  Simple Database Application (Python with SQLite, or similar):**\n",
       "\n",
       "    *   **Description:** Create a program that stores and retrieves information from a small database.  Examples: a contact list, a library catalog.\n",
       "    *   **Benefits:** Introduces database concepts (tables, records, queries), SQL, and how to interact with a database from your code.\n",
       "    *   **Resources:** Search for \"Python SQLite tutorial.\"\n",
       "    *   **Focus:** Database interaction (SQL), data modeling.\n",
       "\n",
       "*   **7.  Graphical User Interface (GUI) Application (Python with Tkinter, or Java with Swing):**\n",
       "\n",
       "    *   **Description:**  Take one of your previous text-based projects (like the to-do list or calculator) and give it a graphical interface with buttons, text boxes, etc.\n",
       "    *   **Benefits:**  Introduces event-driven programming, GUI design, and user experience (UX) considerations.\n",
       "    *   **Resources:**  Search for \"Python Tkinter tutorial\" or \"Java Swing tutorial.\"\n",
       "    *   **Focus:** GUI elements (buttons, labels, text boxes), event handling.\n",
       "\n",
       "**Advanced Level (Challenging and Creative):**\n",
       "\n",
       "*   **8.  Game Development (Python with Pygame, or C# with Unity):**\n",
       "\n",
       "    *   **Description:** Create a simple game like Pong, Snake, or a platformer.\n",
       "    *   **Benefits:**  Combines many programming concepts (graphics, input, game logic, physics) and requires creative problem-solving.\n",
       "    *   **Resources:**  Search for \"Pygame tutorial\" or \"Unity tutorial.\"\n",
       "    *   **Focus:** Game loop, collision detection, user input, graphics.\n",
       "\n",
       "*   **9.  Machine Learning Project (Python with Scikit-learn):**\n",
       "\n",
       "    *   **Description:**  Use a machine learning library to train a model to classify images, predict stock prices, or analyze text data.  Start with a simple dataset like the Iris dataset.\n",
       "    *   **Benefits:** Introduces machine learning concepts, data analysis, and working with data science libraries.\n",
       "    *   **Resources:**  Search for \"Python Scikit-learn tutorial\" or \"machine learning for beginners.\"\n",
       "    *   **Focus:** Machine learning algorithms, data preprocessing, model training, evaluation.\n",
       "\n",
       "*   **10.  Contribute to an Open Source Project:**\n",
       "\n",
       "    *   **Description:** Find a project on GitHub that interests you and contribute code, documentation, or bug fixes.\n",
       "    *   **Benefits:**  Learn how to work in a team, use version control (Git), and contribute to real-world software.\n",
       "    *   **Resources:**  GitHub.com; look for projects with \"good first issue\" tags.\n",
       "    *   **Focus:** Collaboration, version control (Git), reading and understanding existing code.\n",
       "\n",
       "**How to Choose:**\n",
       "\n",
       "*   **Consider your current skill level:**  Don't try to jump into an advanced project if you're still struggling with the basics.\n",
       "*   **Think about your interests:** What kind of projects appeal to you?  Do you like games, data analysis, or web development?\n",
       "*   **Start small and iterate:**  Break down the project into smaller, manageable tasks.\n",
       "*   **Don't be afraid to ask for help:**  Use online forums, communities, or ask your teachers or mentors for guidance.\n",
       "*   **Set realistic goals:**  Don't expect to finish a complex project in a day or two.\n",
       "\n",
       "**General Tips:**\n",
       "\n",
       "*   **Use a good IDE (Integrated Development Environment):**  VS Code, PyCharm, IntelliJ IDEA, Eclipse, and others can make coding much easier with features like code completion, debugging, and syntax highlighting.\n",
       "*   **Practice regularly:**  The more you code, the better you'll become.\n",
       "*   **Read code written by others:**  This is a great way to learn new techniques and improve your understanding of programming concepts.\n",
       "*   **Document your code:**  Write comments to explain what your code does.  This will help you (and others) understand it later.\n",
       "*   **Use version control (Git):**  This allows you to track your changes, revert to previous versions, and collaborate with others.\n",
       "*   **Don't give up!**  Programming can be challenging, but it's also very rewarding.\n",
       "\n",
       "Good luck, and have fun coding! Let me know if you have any questions about a specific project.\n"
      ],
      "text/plain": [
       "<IPython.core.display.Markdown object>"
      ]
     },
     "metadata": {},
     "output_type": "display_data"
    }
   ],
   "source": [
    "prompt = \"I'm a high school student. Recommend me a programming activity to improve my skills.\"\n",
    "\n",
    "response = client.models.generate_content(model=MODEL_ID, contents=prompt)\n",
    "display(Markdown(response.text))"
   ]
  },
  {
   "cell_type": "markdown",
   "metadata": {
    "id": "iAmm9wPYc_1o"
   },
   "source": [
    "#### Classification tasks reduces output variability"
   ]
  },
  {
   "cell_type": "markdown",
   "metadata": {
    "id": "VvRpK_0GdCpf"
   },
   "source": [
    "The prompt below results in a choice and may be useful if you want the output to be easier to control."
   ]
  },
  {
   "cell_type": "code",
   "execution_count": 17,
   "metadata": {
    "id": "kYDKh0r2dAqo",
    "tags": []
   },
   "outputs": [
    {
     "data": {
      "text/markdown": [
       "Okay, as a high school student, my strong recommendation is:\n",
       "\n",
       "**a) Learn Python**\n",
       "\n",
       "Here's why, compared to JavaScript and Fortran:\n",
       "\n",
       "*   **Beginner-Friendliness:** Python is renowned for its easy-to-read syntax.  It reads almost like plain English, making it much easier to grasp the fundamental programming concepts without getting bogged down in complex syntax.  This will help you get up to speed quickly and stay motivated.\n",
       "\n",
       "*   **Versatility:** Python is incredibly versatile. You can use it for:\n",
       "    *   **Data Science & Machine Learning:**  A huge and growing field with lots of opportunities.  Many libraries like NumPy, Pandas, and Scikit-learn make data manipulation and analysis relatively straightforward.\n",
       "    *   **Web Development:** Python frameworks like Django and Flask are used to build robust web applications.\n",
       "    *   **Game Development:** Libraries like Pygame make it possible to create 2D games.\n",
       "    *   **Scripting & Automation:**  Automate repetitive tasks on your computer.\n",
       "    *   **Scientific Computing:** Still used a lot in scientific research.\n",
       "\n",
       "*   **Large and Supportive Community:** Python has a HUGE and active community. This means there are tons of online resources, tutorials, forums, and libraries to help you when you get stuck.  If you have a question, chances are someone has already asked it and there's an answer readily available.\n",
       "\n",
       "*   **Job Market:** Python is in high demand in the job market.  Knowing Python can open doors to internships and future career opportunities in a wide range of fields.\n",
       "\n",
       "*   **Integration with Education:** Many high school and university courses now use Python as the introductory programming language. Learning it now will give you a head start in future academic pursuits.\n",
       "\n",
       "**Why not JavaScript or Fortran?**\n",
       "\n",
       "*   **JavaScript (b):** JavaScript is primarily used for front-end web development (making websites interactive). While very important, it can be more challenging for beginners because it's tightly coupled with HTML and CSS. You need to understand these web technologies to really leverage JavaScript effectively. It can also have some quirks that can frustrate beginners. That said, it's still a great language to learn *eventually*, especially if you're interested in web development.\n",
       "\n",
       "*   **Fortran (c):** Fortran is an older language mainly used in scientific and engineering computing. While it's still used in those fields, it's a much smaller niche compared to Python.  It's not as versatile for general-purpose programming, and the job market is significantly smaller.  It is also not beginner friendly.  You'll likely get more benefit out of learning Python or JavaScript first.\n",
       "\n",
       "**In summary:**\n",
       "\n",
       "Python offers the best combination of beginner-friendliness, versatility, a large community, and relevance to both education and the job market. It's a great starting point for your programming journey.\n",
       "\n",
       "Once you become comfortable with Python, you can consider learning JavaScript if you are interested in web development. Fortran is worth considering if you are particularly interested in scientific computing or engineering, but it is not a priority for beginners.\n"
      ],
      "text/plain": [
       "<IPython.core.display.Markdown object>"
      ]
     },
     "metadata": {},
     "output_type": "display_data"
    }
   ],
   "source": [
    "prompt = \"\"\"I'm a high school student. Which of these activities do you suggest and why:\n",
    "a) learn Python\n",
    "b) learn JavaScript\n",
    "c) learn Fortran\n",
    "\"\"\"\n",
    "\n",
    "response = client.models.generate_content(model=MODEL_ID, contents=prompt)\n",
    "display(Markdown(response.text))"
   ]
  },
  {
   "cell_type": "markdown",
   "metadata": {
    "id": "iTd60b1GdIsx"
   },
   "source": [
    "### Improve response quality by including examples"
   ]
  },
  {
   "cell_type": "markdown",
   "metadata": {
    "id": "yJi44NejdJYE"
   },
   "source": [
    "Another way to improve response quality is to add examples in your prompt. The LLM learns in-context from the examples on how to respond. Typically, one to five examples (shots) are enough to improve the quality of responses. Including too many examples can cause the model to over-fit the data and reduce the quality of responses.\n",
    "\n",
    "Similar to classical model training, the quality and distribution of the examples is very important. Pick examples that are representative of the scenarios that you need the model to learn, and keep the distribution of the examples (e.g. number of examples per class in the case of classification) aligned with your actual distribution."
   ]
  },
  {
   "cell_type": "markdown",
   "metadata": {
    "id": "sMbLginWdOKs"
   },
   "source": [
    "#### Zero-shot prompt"
   ]
  },
  {
   "cell_type": "markdown",
   "metadata": {
    "id": "Crh2Loi2dQ0v"
   },
   "source": [
    "Below is an example of zero-shot prompting, where you don't provide any examples to the LLM within the prompt itself."
   ]
  },
  {
   "cell_type": "code",
   "execution_count": 18,
   "metadata": {
    "id": "-7myRc-SdTQ4",
    "tags": []
   },
   "outputs": [
    {
     "data": {
      "text/markdown": [
       "Positive\n"
      ],
      "text/plain": [
       "<IPython.core.display.Markdown object>"
      ]
     },
     "metadata": {},
     "output_type": "display_data"
    }
   ],
   "source": [
    "prompt = \"\"\"Decide whether a Tweet's sentiment is positive, neutral, or negative.\n",
    "\n",
    "Tweet: I loved the new YouTube video you made!\n",
    "Sentiment:\n",
    "\"\"\"\n",
    "\n",
    "response = client.models.generate_content(model=MODEL_ID, contents=prompt)\n",
    "display(Markdown(response.text))"
   ]
  },
  {
   "cell_type": "markdown",
   "metadata": {
    "id": "ucRtPn9SdL64"
   },
   "source": [
    "#### One-shot prompt"
   ]
  },
  {
   "cell_type": "markdown",
   "metadata": {
    "id": "rs0gQH2vdYBi"
   },
   "source": [
    "Below is an example of one-shot prompting, where you provide one example to the LLM within the prompt to give some guidance on what type of response you want."
   ]
  },
  {
   "cell_type": "code",
   "execution_count": 19,
   "metadata": {
    "id": "iEq-KxGYdaT5",
    "tags": []
   },
   "outputs": [
    {
     "data": {
      "text/markdown": [
       "Sentiment: negative\n"
      ],
      "text/plain": [
       "<IPython.core.display.Markdown object>"
      ]
     },
     "metadata": {},
     "output_type": "display_data"
    }
   ],
   "source": [
    "prompt = \"\"\"Decide whether a Tweet's sentiment is positive, neutral, or negative.\n",
    "\n",
    "Tweet: I loved the new YouTube video you made!\n",
    "Sentiment: positive\n",
    "\n",
    "Tweet: That was awful. Super boring 😠\n",
    "Sentiment:\n",
    "\"\"\"\n",
    "\n",
    "response = client.models.generate_content(model=MODEL_ID, contents=prompt)\n",
    "display(Markdown(response.text))"
   ]
  },
  {
   "cell_type": "markdown",
   "metadata": {
    "id": "JnKLjJzmdfL_"
   },
   "source": [
    "#### Few-shot prompt"
   ]
  },
  {
   "cell_type": "markdown",
   "metadata": {
    "id": "6Zv-9F5OdgI_"
   },
   "source": [
    "Below is an example of few-shot prompting, where you provide a few examples to the LLM within the prompt to give some guidance on what type of response you want."
   ]
  },
  {
   "cell_type": "code",
   "execution_count": 20,
   "metadata": {
    "id": "u37P9tG4dk9S",
    "tags": []
   },
   "outputs": [
    {
     "data": {
      "text/markdown": [
       "Sentiment: positive\n"
      ],
      "text/plain": [
       "<IPython.core.display.Markdown object>"
      ]
     },
     "metadata": {},
     "output_type": "display_data"
    }
   ],
   "source": [
    "prompt = \"\"\"Decide whether a Tweet's sentiment is positive, neutral, or negative.\n",
    "\n",
    "Tweet: I loved the new YouTube video you made!\n",
    "Sentiment: positive\n",
    "\n",
    "Tweet: That was awful. Super boring 😠\n",
    "Sentiment: negative\n",
    "\n",
    "Tweet: Something surprised me about this video - it was actually original. It was not the same old recycled stuff that I always see. Watch it - you will not regret it.\n",
    "Sentiment:\n",
    "\"\"\"\n",
    "\n",
    "response = client.models.generate_content(model=MODEL_ID, contents=prompt)\n",
    "display(Markdown(response.text))"
   ]
  },
  {
   "cell_type": "markdown",
   "metadata": {
    "id": "wDMD3xb2dvX6"
   },
   "source": [
    "#### Choosing between zero-shot, one-shot, few-shot prompting methods"
   ]
  },
  {
   "cell_type": "markdown",
   "metadata": {
    "id": "s92W0YpNdxJp"
   },
   "source": [
    "Which prompt technique to use will solely depends on your goal. The zero-shot prompts are more open-ended and can give you creative answers, while one-shot and few-shot prompts teach the model how to behave so you can get more predictable answers that are consistent with the examples provided."
   ]
  }
 ],
 "metadata": {
  "colab": {
   "name": "intro_prompt_design.ipynb",
   "toc_visible": true
  },
  "environment": {
   "kernel": "conda-base-py",
   "name": "workbench-notebooks.m128",
   "type": "gcloud",
   "uri": "us-docker.pkg.dev/deeplearning-platform-release/gcr.io/workbench-notebooks:m128"
  },
  "kernelspec": {
   "display_name": "Python 3 (ipykernel) (Local)",
   "language": "python",
   "name": "conda-base-py"
  },
  "language_info": {
   "codemirror_mode": {
    "name": "ipython",
    "version": 3
   },
   "file_extension": ".py",
   "mimetype": "text/x-python",
   "name": "python",
   "nbconvert_exporter": "python",
   "pygments_lexer": "ipython3",
   "version": "3.10.16"
  }
 },
 "nbformat": 4,
 "nbformat_minor": 4
}
